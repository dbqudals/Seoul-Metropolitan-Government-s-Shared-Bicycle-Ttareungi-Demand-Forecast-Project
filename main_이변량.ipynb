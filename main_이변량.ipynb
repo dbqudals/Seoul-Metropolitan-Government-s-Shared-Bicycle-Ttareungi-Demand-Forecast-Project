{
 "cells": [
  {
   "cell_type": "markdown",
   "id": "d6a3fec5",
   "metadata": {},
   "source": [
    "# 서울시 공유자전거 '따릉이' 수요 예측 프로젝트\n",
    "## 단계1. 데이터 전처리"
   ]
  },
  {
   "cell_type": "markdown",
   "id": "706c1f1a",
   "metadata": {},
   "source": [
    "## 0.프로젝트 소개\n",
    "\n",
    "### (1) 수행 목표 \n",
    "여러분은 서울시 정책 연구원으로써 서울시 공유자전거인 '따릉이'의 수요와 날씨간 연관성을 분석하라는 미션을 부여받았습니다.\n",
    "\n",
    "#### <font color=\"blue\"> 데이터 분석의 주 목적은 가치있는 정보를 찾아내는것!! </font>\n",
    "\n",
    "#### 우리가 풀어야 하는 문제는 무엇인가요?\n",
    "\n",
    " - 기상상황이 따릉이 수요에 주는 영향을 분석해봅시다.\n",
    "\n",
    "    * 1.데이터를 탐색하며 정보 획득\n",
    "        * 날씨 데이터와 서울시 공유 자전거 따릉이의 수요 데이터를 제공해드렸습니다. \n",
    "        * 우리는 따릉이의 수요와 날씨간 어떤 연관성이 있는지 탐색 해 봅시다.\n",
    "    * 2.EDA\n",
    "        * 주어진 데이터의 변수들을 분석해 봅시다. \n",
    "\n",
    "\n",
    "### (2) 데이터 소개\n",
    "\n",
    "#### 1) 기본 데이터\n",
    "\n",
    "        * 학습데이터 : sbikedata.csv\n",
    "\n",
    "#### 2) 데이터셋의 변수 소개\n",
    "\n",
    "        * date : 날짜\n",
    "        * hour : 시간\n",
    "        * temperature : 온도\n",
    "        * precipitation : 강우 여부, 비가 오지 않았으면 0, 비가 오면 1\n",
    "        * windspeed : 풍속(평균)\n",
    "        * humidity : 습도\n",
    "        * visibility : 시정(視程), 시계(視界)(특정 기상 상태에 따른 가시성을 의미)\n",
    "        * ozone : 오존 수치\n",
    "        * PM10 : 미세먼지 수치(머리카락 굵기의 1/5에서 1/7 크기의 미세먼지)\n",
    "        * PM2.5 : 초미세먼지 수치(머리카락 굵기의 1/20에서 1/30 크기의 미세먼지)\n",
    "        * count : 시간에 따른 따릉이 대여 수\n"
   ]
  },
  {
   "cell_type": "markdown",
   "id": "1f75d42d",
   "metadata": {},
   "source": [
    "## 1.환경설정"
   ]
  },
  {
   "cell_type": "markdown",
   "id": "eab3d3b0",
   "metadata": {},
   "source": [
    "* 세부 요구사항\n",
    "    - 경로 설정 \n",
    "        * 로컬 수행(Ananconda)\n",
    "            * 제공된 압축파일을 다운받아 압축을 풀고\n",
    "            * anaconda의 root directory(보통 C:/Users/< ID > 에 project 폴더를 만들고, 복사해 넣습니다.\n",
    "        \n",
    "    - 기본적으로 필요한 라이브러리를 import 하도록 코드가 작성되어 있습니다. \n",
    "        * 필요하다고 판단되는 라이브러리를 추가하세요."
   ]
  },
  {
   "cell_type": "markdown",
   "id": "38b44a6e",
   "metadata": {},
   "source": [
    "### (1) 경로 설정 및 라이브러리 로딩\n",
    "* 이번 프로젝트는 로컬환경에서 진행합니다."
   ]
  },
  {
   "cell_type": "markdown",
   "id": "84eef66f",
   "metadata": {},
   "source": [
    "#### 1) 로컬 수행(Anaconda)\n",
    "* project 폴더에 필요한 파일들을 넣고, 본 파일을 열었다면, 별도 경로 지정이 필요하지 않습니다."
   ]
  },
  {
   "cell_type": "code",
   "execution_count": 3,
   "id": "48878d45",
   "metadata": {
    "tags": []
   },
   "outputs": [],
   "source": [
    "path = 'sbikedata.csv'"
   ]
  },
  {
   "cell_type": "markdown",
   "id": "26d9ab4e",
   "metadata": {},
   "source": [
    "#### 2) 라이브러리 로딩"
   ]
  },
  {
   "cell_type": "code",
   "execution_count": 1,
   "id": "024f6e60",
   "metadata": {
    "tags": []
   },
   "outputs": [],
   "source": [
    "import pandas as pd\n",
    "import numpy as np\n",
    "import matplotlib.pyplot as plt\n",
    "import seaborn as sns\n",
    "\n",
    "from statsmodels.graphics.mosaicplot import mosaic\n",
    "from scipy import stats as spst\n",
    "import statsmodels.api as sm\n",
    "import joblib\n",
    "\n",
    "# 더 필요한 라이브러리를 아래에 추가합니다.\n",
    "\n"
   ]
  },
  {
   "cell_type": "markdown",
   "id": "2b70c230",
   "metadata": {},
   "source": [
    "### (2) 데이터 불러오기\n",
    "* 주어진 데이터셋\n",
    "    * 따릉이 수요 및 날씨 데이터 : sbikedata.csv"
   ]
  },
  {
   "cell_type": "markdown",
   "id": "39dcb980",
   "metadata": {},
   "source": [
    "#### 1) 데이터로딩"
   ]
  },
  {
   "cell_type": "code",
   "execution_count": 4,
   "id": "1d3deb9c",
   "metadata": {
    "tags": []
   },
   "outputs": [],
   "source": [
    "# 아래에 실습코드를 작성하고 결과를 확인합니다.\n",
    "data = pd.read_csv(path)"
   ]
  },
  {
   "cell_type": "code",
   "execution_count": 5,
   "id": "2f844fa2-d7ac-48d3-91f7-0e7e2b6e558b",
   "metadata": {
    "tags": []
   },
   "outputs": [
    {
     "data": {
      "text/html": [
       "<div>\n",
       "<style scoped>\n",
       "    .dataframe tbody tr th:only-of-type {\n",
       "        vertical-align: middle;\n",
       "    }\n",
       "\n",
       "    .dataframe tbody tr th {\n",
       "        vertical-align: top;\n",
       "    }\n",
       "\n",
       "    .dataframe thead th {\n",
       "        text-align: right;\n",
       "    }\n",
       "</style>\n",
       "<table border=\"1\" class=\"dataframe\">\n",
       "  <thead>\n",
       "    <tr style=\"text-align: right;\">\n",
       "      <th></th>\n",
       "      <th>date</th>\n",
       "      <th>hour</th>\n",
       "      <th>PM10</th>\n",
       "      <th>PM2.5</th>\n",
       "      <th>ozone</th>\n",
       "      <th>temperature</th>\n",
       "      <th>precipitation</th>\n",
       "      <th>windspeed</th>\n",
       "      <th>humidity</th>\n",
       "      <th>visibility</th>\n",
       "      <th>count</th>\n",
       "    </tr>\n",
       "  </thead>\n",
       "  <tbody>\n",
       "    <tr>\n",
       "      <th>0</th>\n",
       "      <td>2021-04-01</td>\n",
       "      <td>1</td>\n",
       "      <td>42.0</td>\n",
       "      <td>21.0</td>\n",
       "      <td>0.002</td>\n",
       "      <td>13.1</td>\n",
       "      <td>0</td>\n",
       "      <td>1.4</td>\n",
       "      <td>49</td>\n",
       "      <td>2000</td>\n",
       "      <td>46</td>\n",
       "    </tr>\n",
       "    <tr>\n",
       "      <th>1</th>\n",
       "      <td>2021-04-01</td>\n",
       "      <td>2</td>\n",
       "      <td>41.0</td>\n",
       "      <td>21.0</td>\n",
       "      <td>0.003</td>\n",
       "      <td>12.4</td>\n",
       "      <td>0</td>\n",
       "      <td>2.1</td>\n",
       "      <td>53</td>\n",
       "      <td>2000</td>\n",
       "      <td>40</td>\n",
       "    </tr>\n",
       "    <tr>\n",
       "      <th>2</th>\n",
       "      <td>2021-04-01</td>\n",
       "      <td>3</td>\n",
       "      <td>30.0</td>\n",
       "      <td>13.0</td>\n",
       "      <td>0.023</td>\n",
       "      <td>13.1</td>\n",
       "      <td>0</td>\n",
       "      <td>3.4</td>\n",
       "      <td>43</td>\n",
       "      <td>2000</td>\n",
       "      <td>31</td>\n",
       "    </tr>\n",
       "    <tr>\n",
       "      <th>3</th>\n",
       "      <td>2021-04-01</td>\n",
       "      <td>4</td>\n",
       "      <td>27.0</td>\n",
       "      <td>12.0</td>\n",
       "      <td>0.028</td>\n",
       "      <td>13.0</td>\n",
       "      <td>0</td>\n",
       "      <td>3.1</td>\n",
       "      <td>44</td>\n",
       "      <td>2000</td>\n",
       "      <td>12</td>\n",
       "    </tr>\n",
       "    <tr>\n",
       "      <th>4</th>\n",
       "      <td>2021-04-01</td>\n",
       "      <td>5</td>\n",
       "      <td>29.0</td>\n",
       "      <td>14.0</td>\n",
       "      <td>0.008</td>\n",
       "      <td>13.0</td>\n",
       "      <td>0</td>\n",
       "      <td>2.9</td>\n",
       "      <td>44</td>\n",
       "      <td>2000</td>\n",
       "      <td>30</td>\n",
       "    </tr>\n",
       "  </tbody>\n",
       "</table>\n",
       "</div>"
      ],
      "text/plain": [
       "         date  hour  PM10  PM2.5  ozone  temperature  precipitation  \\\n",
       "0  2021-04-01     1  42.0   21.0  0.002         13.1              0   \n",
       "1  2021-04-01     2  41.0   21.0  0.003         12.4              0   \n",
       "2  2021-04-01     3  30.0   13.0  0.023         13.1              0   \n",
       "3  2021-04-01     4  27.0   12.0  0.028         13.0              0   \n",
       "4  2021-04-01     5  29.0   14.0  0.008         13.0              0   \n",
       "\n",
       "   windspeed  humidity  visibility  count  \n",
       "0        1.4        49        2000     46  \n",
       "1        2.1        53        2000     40  \n",
       "2        3.4        43        2000     31  \n",
       "3        3.1        44        2000     12  \n",
       "4        2.9        44        2000     30  "
      ]
     },
     "execution_count": 5,
     "metadata": {},
     "output_type": "execute_result"
    }
   ],
   "source": [
    "data.head()"
   ]
  },
  {
   "cell_type": "markdown",
   "id": "4ed61f29",
   "metadata": {},
   "source": [
    "#### 2) 기본 정보 조회\n",
    "- 데이터를 head, tail. describe, info 등을 활용하여 확인하세요."
   ]
  },
  {
   "cell_type": "code",
   "execution_count": 6,
   "id": "862f8a38",
   "metadata": {
    "tags": []
   },
   "outputs": [
    {
     "data": {
      "text/html": [
       "<div>\n",
       "<style scoped>\n",
       "    .dataframe tbody tr th:only-of-type {\n",
       "        vertical-align: middle;\n",
       "    }\n",
       "\n",
       "    .dataframe tbody tr th {\n",
       "        vertical-align: top;\n",
       "    }\n",
       "\n",
       "    .dataframe thead th {\n",
       "        text-align: right;\n",
       "    }\n",
       "</style>\n",
       "<table border=\"1\" class=\"dataframe\">\n",
       "  <thead>\n",
       "    <tr style=\"text-align: right;\">\n",
       "      <th></th>\n",
       "      <th>date</th>\n",
       "      <th>hour</th>\n",
       "      <th>PM10</th>\n",
       "      <th>PM2.5</th>\n",
       "      <th>ozone</th>\n",
       "      <th>temperature</th>\n",
       "      <th>precipitation</th>\n",
       "      <th>windspeed</th>\n",
       "      <th>humidity</th>\n",
       "      <th>visibility</th>\n",
       "      <th>count</th>\n",
       "    </tr>\n",
       "  </thead>\n",
       "  <tbody>\n",
       "    <tr>\n",
       "      <th>0</th>\n",
       "      <td>2021-04-01</td>\n",
       "      <td>1</td>\n",
       "      <td>42.0</td>\n",
       "      <td>21.0</td>\n",
       "      <td>0.002</td>\n",
       "      <td>13.1</td>\n",
       "      <td>0</td>\n",
       "      <td>1.4</td>\n",
       "      <td>49</td>\n",
       "      <td>2000</td>\n",
       "      <td>46</td>\n",
       "    </tr>\n",
       "    <tr>\n",
       "      <th>1</th>\n",
       "      <td>2021-04-01</td>\n",
       "      <td>2</td>\n",
       "      <td>41.0</td>\n",
       "      <td>21.0</td>\n",
       "      <td>0.003</td>\n",
       "      <td>12.4</td>\n",
       "      <td>0</td>\n",
       "      <td>2.1</td>\n",
       "      <td>53</td>\n",
       "      <td>2000</td>\n",
       "      <td>40</td>\n",
       "    </tr>\n",
       "    <tr>\n",
       "      <th>2</th>\n",
       "      <td>2021-04-01</td>\n",
       "      <td>3</td>\n",
       "      <td>30.0</td>\n",
       "      <td>13.0</td>\n",
       "      <td>0.023</td>\n",
       "      <td>13.1</td>\n",
       "      <td>0</td>\n",
       "      <td>3.4</td>\n",
       "      <td>43</td>\n",
       "      <td>2000</td>\n",
       "      <td>31</td>\n",
       "    </tr>\n",
       "    <tr>\n",
       "      <th>3</th>\n",
       "      <td>2021-04-01</td>\n",
       "      <td>4</td>\n",
       "      <td>27.0</td>\n",
       "      <td>12.0</td>\n",
       "      <td>0.028</td>\n",
       "      <td>13.0</td>\n",
       "      <td>0</td>\n",
       "      <td>3.1</td>\n",
       "      <td>44</td>\n",
       "      <td>2000</td>\n",
       "      <td>12</td>\n",
       "    </tr>\n",
       "    <tr>\n",
       "      <th>4</th>\n",
       "      <td>2021-04-01</td>\n",
       "      <td>5</td>\n",
       "      <td>29.0</td>\n",
       "      <td>14.0</td>\n",
       "      <td>0.008</td>\n",
       "      <td>13.0</td>\n",
       "      <td>0</td>\n",
       "      <td>2.9</td>\n",
       "      <td>44</td>\n",
       "      <td>2000</td>\n",
       "      <td>30</td>\n",
       "    </tr>\n",
       "  </tbody>\n",
       "</table>\n",
       "</div>"
      ],
      "text/plain": [
       "         date  hour  PM10  PM2.5  ozone  temperature  precipitation  \\\n",
       "0  2021-04-01     1  42.0   21.0  0.002         13.1              0   \n",
       "1  2021-04-01     2  41.0   21.0  0.003         12.4              0   \n",
       "2  2021-04-01     3  30.0   13.0  0.023         13.1              0   \n",
       "3  2021-04-01     4  27.0   12.0  0.028         13.0              0   \n",
       "4  2021-04-01     5  29.0   14.0  0.008         13.0              0   \n",
       "\n",
       "   windspeed  humidity  visibility  count  \n",
       "0        1.4        49        2000     46  \n",
       "1        2.1        53        2000     40  \n",
       "2        3.4        43        2000     31  \n",
       "3        3.1        44        2000     12  \n",
       "4        2.9        44        2000     30  "
      ]
     },
     "execution_count": 6,
     "metadata": {},
     "output_type": "execute_result"
    }
   ],
   "source": [
    "# 아래에 실습코드를 작성하고 결과를 확인합니다.\n",
    "data.head()"
   ]
  },
  {
   "cell_type": "code",
   "execution_count": 7,
   "id": "69c3c6c7",
   "metadata": {
    "tags": []
   },
   "outputs": [
    {
     "data": {
      "text/html": [
       "<div>\n",
       "<style scoped>\n",
       "    .dataframe tbody tr th:only-of-type {\n",
       "        vertical-align: middle;\n",
       "    }\n",
       "\n",
       "    .dataframe tbody tr th {\n",
       "        vertical-align: top;\n",
       "    }\n",
       "\n",
       "    .dataframe thead th {\n",
       "        text-align: right;\n",
       "    }\n",
       "</style>\n",
       "<table border=\"1\" class=\"dataframe\">\n",
       "  <thead>\n",
       "    <tr style=\"text-align: right;\">\n",
       "      <th></th>\n",
       "      <th>date</th>\n",
       "      <th>hour</th>\n",
       "      <th>PM10</th>\n",
       "      <th>PM2.5</th>\n",
       "      <th>ozone</th>\n",
       "      <th>temperature</th>\n",
       "      <th>precipitation</th>\n",
       "      <th>windspeed</th>\n",
       "      <th>humidity</th>\n",
       "      <th>visibility</th>\n",
       "      <th>count</th>\n",
       "    </tr>\n",
       "  </thead>\n",
       "  <tbody>\n",
       "    <tr>\n",
       "      <th>5822</th>\n",
       "      <td>2021-11-29</td>\n",
       "      <td>20</td>\n",
       "      <td>74.0</td>\n",
       "      <td>58.0</td>\n",
       "      <td>0.002</td>\n",
       "      <td>9.3</td>\n",
       "      <td>0</td>\n",
       "      <td>0.3</td>\n",
       "      <td>66</td>\n",
       "      <td>1193</td>\n",
       "      <td>273</td>\n",
       "    </tr>\n",
       "    <tr>\n",
       "      <th>5823</th>\n",
       "      <td>2021-11-29</td>\n",
       "      <td>21</td>\n",
       "      <td>65.0</td>\n",
       "      <td>56.0</td>\n",
       "      <td>0.002</td>\n",
       "      <td>8.4</td>\n",
       "      <td>0</td>\n",
       "      <td>2.0</td>\n",
       "      <td>70</td>\n",
       "      <td>1233</td>\n",
       "      <td>228</td>\n",
       "    </tr>\n",
       "    <tr>\n",
       "      <th>5824</th>\n",
       "      <td>2021-11-29</td>\n",
       "      <td>22</td>\n",
       "      <td>51.0</td>\n",
       "      <td>41.0</td>\n",
       "      <td>0.002</td>\n",
       "      <td>8.6</td>\n",
       "      <td>0</td>\n",
       "      <td>1.9</td>\n",
       "      <td>70</td>\n",
       "      <td>1250</td>\n",
       "      <td>215</td>\n",
       "    </tr>\n",
       "    <tr>\n",
       "      <th>5825</th>\n",
       "      <td>2021-11-29</td>\n",
       "      <td>23</td>\n",
       "      <td>43.0</td>\n",
       "      <td>35.0</td>\n",
       "      <td>0.001</td>\n",
       "      <td>8.2</td>\n",
       "      <td>0</td>\n",
       "      <td>2.1</td>\n",
       "      <td>71</td>\n",
       "      <td>1262</td>\n",
       "      <td>125</td>\n",
       "    </tr>\n",
       "    <tr>\n",
       "      <th>5826</th>\n",
       "      <td>2021-11-30</td>\n",
       "      <td>0</td>\n",
       "      <td>39.0</td>\n",
       "      <td>31.0</td>\n",
       "      <td>0.004</td>\n",
       "      <td>7.9</td>\n",
       "      <td>0</td>\n",
       "      <td>2.3</td>\n",
       "      <td>71</td>\n",
       "      <td>1483</td>\n",
       "      <td>95</td>\n",
       "    </tr>\n",
       "  </tbody>\n",
       "</table>\n",
       "</div>"
      ],
      "text/plain": [
       "            date  hour  PM10  PM2.5  ozone  temperature  precipitation  \\\n",
       "5822  2021-11-29    20  74.0   58.0  0.002          9.3              0   \n",
       "5823  2021-11-29    21  65.0   56.0  0.002          8.4              0   \n",
       "5824  2021-11-29    22  51.0   41.0  0.002          8.6              0   \n",
       "5825  2021-11-29    23  43.0   35.0  0.001          8.2              0   \n",
       "5826  2021-11-30     0  39.0   31.0  0.004          7.9              0   \n",
       "\n",
       "      windspeed  humidity  visibility  count  \n",
       "5822        0.3        66        1193    273  \n",
       "5823        2.0        70        1233    228  \n",
       "5824        1.9        70        1250    215  \n",
       "5825        2.1        71        1262    125  \n",
       "5826        2.3        71        1483     95  "
      ]
     },
     "execution_count": 7,
     "metadata": {},
     "output_type": "execute_result"
    }
   ],
   "source": [
    "# 아래에 실습코드를 작성하고 결과를 확인합니다.\n",
    "data.tail()"
   ]
  },
  {
   "cell_type": "code",
   "execution_count": 8,
   "id": "3396bdcc",
   "metadata": {
    "tags": []
   },
   "outputs": [
    {
     "data": {
      "text/html": [
       "<div>\n",
       "<style scoped>\n",
       "    .dataframe tbody tr th:only-of-type {\n",
       "        vertical-align: middle;\n",
       "    }\n",
       "\n",
       "    .dataframe tbody tr th {\n",
       "        vertical-align: top;\n",
       "    }\n",
       "\n",
       "    .dataframe thead th {\n",
       "        text-align: right;\n",
       "    }\n",
       "</style>\n",
       "<table border=\"1\" class=\"dataframe\">\n",
       "  <thead>\n",
       "    <tr style=\"text-align: right;\">\n",
       "      <th></th>\n",
       "      <th>hour</th>\n",
       "      <th>PM10</th>\n",
       "      <th>PM2.5</th>\n",
       "      <th>ozone</th>\n",
       "      <th>temperature</th>\n",
       "      <th>precipitation</th>\n",
       "      <th>windspeed</th>\n",
       "      <th>humidity</th>\n",
       "      <th>visibility</th>\n",
       "      <th>count</th>\n",
       "    </tr>\n",
       "  </thead>\n",
       "  <tbody>\n",
       "    <tr>\n",
       "      <th>count</th>\n",
       "      <td>5827.000000</td>\n",
       "      <td>5725.000000</td>\n",
       "      <td>5732.000000</td>\n",
       "      <td>5699.000000</td>\n",
       "      <td>5827.000000</td>\n",
       "      <td>5827.000000</td>\n",
       "      <td>5827.000000</td>\n",
       "      <td>5827.000000</td>\n",
       "      <td>5827.000000</td>\n",
       "      <td>5827.000000</td>\n",
       "    </tr>\n",
       "    <tr>\n",
       "      <th>mean</th>\n",
       "      <td>11.506607</td>\n",
       "      <td>31.970655</td>\n",
       "      <td>15.666609</td>\n",
       "      <td>0.031811</td>\n",
       "      <td>19.376798</td>\n",
       "      <td>0.075511</td>\n",
       "      <td>2.237601</td>\n",
       "      <td>68.608718</td>\n",
       "      <td>1758.438648</td>\n",
       "      <td>215.117899</td>\n",
       "    </tr>\n",
       "    <tr>\n",
       "      <th>std</th>\n",
       "      <td>6.921963</td>\n",
       "      <td>42.987292</td>\n",
       "      <td>13.850990</td>\n",
       "      <td>0.018277</td>\n",
       "      <td>7.501572</td>\n",
       "      <td>0.264236</td>\n",
       "      <td>1.054516</td>\n",
       "      <td>17.277266</td>\n",
       "      <td>490.969394</td>\n",
       "      <td>185.972900</td>\n",
       "    </tr>\n",
       "    <tr>\n",
       "      <th>min</th>\n",
       "      <td>0.000000</td>\n",
       "      <td>3.000000</td>\n",
       "      <td>1.000000</td>\n",
       "      <td>0.001000</td>\n",
       "      <td>-3.500000</td>\n",
       "      <td>0.000000</td>\n",
       "      <td>0.000000</td>\n",
       "      <td>19.000000</td>\n",
       "      <td>60.000000</td>\n",
       "      <td>1.000000</td>\n",
       "    </tr>\n",
       "    <tr>\n",
       "      <th>25%</th>\n",
       "      <td>6.000000</td>\n",
       "      <td>16.000000</td>\n",
       "      <td>7.000000</td>\n",
       "      <td>0.019000</td>\n",
       "      <td>14.100000</td>\n",
       "      <td>0.000000</td>\n",
       "      <td>1.500000</td>\n",
       "      <td>56.000000</td>\n",
       "      <td>1935.500000</td>\n",
       "      <td>53.000000</td>\n",
       "    </tr>\n",
       "    <tr>\n",
       "      <th>50%</th>\n",
       "      <td>12.000000</td>\n",
       "      <td>25.000000</td>\n",
       "      <td>13.000000</td>\n",
       "      <td>0.031000</td>\n",
       "      <td>20.400000</td>\n",
       "      <td>0.000000</td>\n",
       "      <td>2.200000</td>\n",
       "      <td>70.000000</td>\n",
       "      <td>2000.000000</td>\n",
       "      <td>186.000000</td>\n",
       "    </tr>\n",
       "    <tr>\n",
       "      <th>75%</th>\n",
       "      <td>18.000000</td>\n",
       "      <td>37.000000</td>\n",
       "      <td>20.000000</td>\n",
       "      <td>0.041000</td>\n",
       "      <td>24.900000</td>\n",
       "      <td>0.000000</td>\n",
       "      <td>2.800000</td>\n",
       "      <td>82.000000</td>\n",
       "      <td>2000.000000</td>\n",
       "      <td>315.000000</td>\n",
       "    </tr>\n",
       "    <tr>\n",
       "      <th>max</th>\n",
       "      <td>23.000000</td>\n",
       "      <td>827.000000</td>\n",
       "      <td>125.000000</td>\n",
       "      <td>0.137000</td>\n",
       "      <td>36.300000</td>\n",
       "      <td>1.000000</td>\n",
       "      <td>8.300000</td>\n",
       "      <td>100.000000</td>\n",
       "      <td>2000.000000</td>\n",
       "      <td>1746.000000</td>\n",
       "    </tr>\n",
       "  </tbody>\n",
       "</table>\n",
       "</div>"
      ],
      "text/plain": [
       "              hour         PM10        PM2.5        ozone  temperature  \\\n",
       "count  5827.000000  5725.000000  5732.000000  5699.000000  5827.000000   \n",
       "mean     11.506607    31.970655    15.666609     0.031811    19.376798   \n",
       "std       6.921963    42.987292    13.850990     0.018277     7.501572   \n",
       "min       0.000000     3.000000     1.000000     0.001000    -3.500000   \n",
       "25%       6.000000    16.000000     7.000000     0.019000    14.100000   \n",
       "50%      12.000000    25.000000    13.000000     0.031000    20.400000   \n",
       "75%      18.000000    37.000000    20.000000     0.041000    24.900000   \n",
       "max      23.000000   827.000000   125.000000     0.137000    36.300000   \n",
       "\n",
       "       precipitation    windspeed     humidity   visibility        count  \n",
       "count    5827.000000  5827.000000  5827.000000  5827.000000  5827.000000  \n",
       "mean        0.075511     2.237601    68.608718  1758.438648   215.117899  \n",
       "std         0.264236     1.054516    17.277266   490.969394   185.972900  \n",
       "min         0.000000     0.000000    19.000000    60.000000     1.000000  \n",
       "25%         0.000000     1.500000    56.000000  1935.500000    53.000000  \n",
       "50%         0.000000     2.200000    70.000000  2000.000000   186.000000  \n",
       "75%         0.000000     2.800000    82.000000  2000.000000   315.000000  \n",
       "max         1.000000     8.300000   100.000000  2000.000000  1746.000000  "
      ]
     },
     "execution_count": 8,
     "metadata": {},
     "output_type": "execute_result"
    }
   ],
   "source": [
    "# 아래에 실습코드를 작성하고 결과를 확인합니다.\n",
    "data.describe()"
   ]
  },
  {
   "cell_type": "code",
   "execution_count": 9,
   "id": "7b9a3238",
   "metadata": {
    "tags": []
   },
   "outputs": [
    {
     "name": "stdout",
     "output_type": "stream",
     "text": [
      "<class 'pandas.core.frame.DataFrame'>\n",
      "RangeIndex: 5827 entries, 0 to 5826\n",
      "Data columns (total 11 columns):\n",
      " #   Column         Non-Null Count  Dtype  \n",
      "---  ------         --------------  -----  \n",
      " 0   date           5827 non-null   object \n",
      " 1   hour           5827 non-null   int64  \n",
      " 2   PM10           5725 non-null   float64\n",
      " 3   PM2.5          5732 non-null   float64\n",
      " 4   ozone          5699 non-null   float64\n",
      " 5   temperature    5827 non-null   float64\n",
      " 6   precipitation  5827 non-null   int64  \n",
      " 7   windspeed      5827 non-null   float64\n",
      " 8   humidity       5827 non-null   int64  \n",
      " 9   visibility     5827 non-null   int64  \n",
      " 10  count          5827 non-null   int64  \n",
      "dtypes: float64(5), int64(5), object(1)\n",
      "memory usage: 500.9+ KB\n"
     ]
    }
   ],
   "source": [
    "# 아래에 실습코드를 작성하고 결과를 확인합니다.\n",
    "data.info()"
   ]
  },
  {
   "cell_type": "markdown",
   "id": "8e126a7d",
   "metadata": {},
   "source": [
    "## 2.EDA 1단계 - 데이터 기본 탐색\n",
    "\n",
    "* 단변량 분석은 데이터분석의 매우 기초적인 분석기법으로, 독립적인 개별 변수가 가지고있는 특성들을 이해하는 과정입니다.\n",
    "\n",
    "    * <span style=\"color: green\"> 개별 변수에 대해 아래 사항들을 분석해보세요. </span>\n",
    "\n",
    "        1. 변수가 내포하고 있는 의미\n",
    "        2. 변수가 수치형인지, 범주형인지\n",
    "        3. 결측치 존재 여부 및 조치 방안\n",
    "        4. 기초 통계량 확인\n",
    "        5. 데이터 분포 확인\n",
    "        6. 위 정보로부터 파악한 내용 정리\n",
    "        7. 추가 분석사항 도출"
   ]
  },
  {
   "cell_type": "markdown",
   "id": "dc63b28e",
   "metadata": {},
   "source": [
    "### (1) 변수별 단변량 분석"
   ]
  },
  {
   "cell_type": "markdown",
   "id": "e3fe59cc",
   "metadata": {},
   "source": [
    "#### 1) Feature1 : hour"
   ]
  },
  {
   "cell_type": "code",
   "execution_count": 10,
   "id": "d098623d",
   "metadata": {
    "tags": []
   },
   "outputs": [
    {
     "data": {
      "text/plain": [
       "0        1\n",
       "1        2\n",
       "2        3\n",
       "3        4\n",
       "4        5\n",
       "        ..\n",
       "5822    20\n",
       "5823    21\n",
       "5824    22\n",
       "5825    23\n",
       "5826     0\n",
       "Name: hour, Length: 5827, dtype: int64"
      ]
     },
     "execution_count": 10,
     "metadata": {},
     "output_type": "execute_result"
    }
   ],
   "source": [
    "# 아래에 실습코드를 작성하고 결과를 확인합니다.\n",
    "data['hour']"
   ]
  },
  {
   "cell_type": "markdown",
   "id": "74305cdf",
   "metadata": {},
   "source": [
    "변수가 내포하고 있는 의미\n",
    "- 시간을 24시로 표현"
   ]
  },
  {
   "cell_type": "markdown",
   "id": "f5598656",
   "metadata": {},
   "source": [
    "변수가 수치형인지 범주형인지\n",
    "- 시간은 범주형? 수치형?"
   ]
  },
  {
   "cell_type": "code",
   "execution_count": 22,
   "id": "17431249",
   "metadata": {
    "tags": []
   },
   "outputs": [
    {
     "name": "stdout",
     "output_type": "stream",
     "text": [
      "<class 'pandas.core.series.Series'>\n",
      "RangeIndex: 5827 entries, 0 to 5826\n",
      "Series name: hour\n",
      "Non-Null Count  Dtype\n",
      "--------------  -----\n",
      "5827 non-null   int64\n",
      "dtypes: int64(1)\n",
      "memory usage: 45.7 KB\n",
      "None\n"
     ]
    }
   ],
   "source": [
    "# 아래에 실습코드를 작성하고 결과를 확인합니다.\n",
    "print(data['hour'].info())"
   ]
  },
  {
   "cell_type": "markdown",
   "id": "52aeba21",
   "metadata": {},
   "source": [
    "변수의 결측치 존재 여부 및 조치방안"
   ]
  },
  {
   "cell_type": "code",
   "execution_count": 13,
   "id": "b35f59ce",
   "metadata": {
    "tags": []
   },
   "outputs": [
    {
     "name": "stdout",
     "output_type": "stream",
     "text": [
      "0\n"
     ]
    }
   ],
   "source": [
    "# 아래에 실습코드를 작성하고 결과를 확인합니다.\n",
    "missing_values = data['hour'].isnull().sum()\n",
    "print(missing_values)"
   ]
  },
  {
   "cell_type": "markdown",
   "id": "2d9760fd",
   "metadata": {},
   "source": [
    "변수의 기초 통계량 확인"
   ]
  },
  {
   "cell_type": "code",
   "execution_count": 18,
   "id": "a749aab7",
   "metadata": {
    "tags": []
   },
   "outputs": [
    {
     "data": {
      "text/plain": [
       "count    5827.000000\n",
       "mean       11.506607\n",
       "std         6.921963\n",
       "min         0.000000\n",
       "25%         6.000000\n",
       "50%        12.000000\n",
       "75%        18.000000\n",
       "max        23.000000\n",
       "Name: hour, dtype: float64"
      ]
     },
     "execution_count": 18,
     "metadata": {},
     "output_type": "execute_result"
    }
   ],
   "source": [
    "# 아래에 실습코드를 작성하고 결과를 확인합니다.\n",
    "data['hour'].describe()"
   ]
  },
  {
   "cell_type": "markdown",
   "id": "4eb1b708",
   "metadata": {},
   "source": [
    "변수의 분포 확인\n",
    "* kdeplot 활용"
   ]
  },
  {
   "cell_type": "code",
   "execution_count": 14,
   "id": "ad5e55cb",
   "metadata": {
    "tags": []
   },
   "outputs": [
    {
     "data": {
      "image/png": "[encoded data removed]",
      "text/plain": [
       "<Figure size 640x480 with 1 Axes>"
      ]
     },
     "metadata": {},
     "output_type": "display_data"
    }
   ],
   "source": [
    "# 아래에 실습코드를 작성하고 결과를 확인합니다.\n",
    "sns.kdeplot(data['hour'])\n",
    "plt.show()\n"
   ]
  },
  {
   "cell_type": "markdown",
   "id": "314284e2",
   "metadata": {},
   "source": [
    "위 정보로 부터 파악한 내용 정리\n",
    "- 데이터의 '시간' 열은 5827개 row로 구성되어있으며 결측치는 없음\n",
    "- 0시 및 일부 중간시간대 데이터가 비어있음"
   ]
  },
  {
   "cell_type": "markdown",
   "id": "a3ce1e2a",
   "metadata": {},
   "source": [
    "#### 2) Feature2 : temperature"
   ]
  },
  {
   "cell_type": "markdown",
   "id": "bdf00b61",
   "metadata": {},
   "source": [
    "변수가 내포하고 있는 의미\n",
    "- 따릉이 대여 시점의 온도\n"
   ]
  },
  {
   "cell_type": "code",
   "execution_count": 19,
   "id": "ad088ce4",
   "metadata": {
    "tags": []
   },
   "outputs": [
    {
     "data": {
      "text/plain": [
       "0       13.1\n",
       "1       12.4\n",
       "2       13.1\n",
       "3       13.0\n",
       "4       13.0\n",
       "        ... \n",
       "5822     9.3\n",
       "5823     8.4\n",
       "5824     8.6\n",
       "5825     8.2\n",
       "5826     7.9\n",
       "Name: temperature, Length: 5827, dtype: float64"
      ]
     },
     "execution_count": 19,
     "metadata": {},
     "output_type": "execute_result"
    }
   ],
   "source": [
    "# 아래에 실습코드를 작성하고 결과를 확인합니다.\n",
    "data['temperature']"
   ]
  },
  {
   "cell_type": "markdown",
   "id": "3946f54b",
   "metadata": {},
   "source": [
    "변수가 수치형인지 범주형인지\n",
    "- 기온은 수치형? 범주형?"
   ]
  },
  {
   "cell_type": "code",
   "execution_count": 21,
   "id": "49361356",
   "metadata": {
    "tags": []
   },
   "outputs": [
    {
     "name": "stdout",
     "output_type": "stream",
     "text": [
      "<class 'pandas.core.series.Series'>\n",
      "RangeIndex: 5827 entries, 0 to 5826\n",
      "Series name: temperature\n",
      "Non-Null Count  Dtype  \n",
      "--------------  -----  \n",
      "5827 non-null   float64\n",
      "dtypes: float64(1)\n",
      "memory usage: 45.7 KB\n",
      "None\n"
     ]
    }
   ],
   "source": [
    "# 아래에 실습코드를 작성하고 결과를 확인합니다.\n",
    "print(data['temperature'].info())"
   ]
  },
  {
   "cell_type": "markdown",
   "id": "070e7647",
   "metadata": {},
   "source": [
    "변수의 결측치 존재 여부 및 조치방안"
   ]
  },
  {
   "cell_type": "code",
   "execution_count": 20,
   "id": "66e3ae24",
   "metadata": {
    "tags": []
   },
   "outputs": [
    {
     "name": "stdout",
     "output_type": "stream",
     "text": [
      "0\n"
     ]
    }
   ],
   "source": [
    "# 아래에 실습코드를 작성하고 결과를 확인합니다.\n",
    "missing_values = data['temperature'].isnull().sum()\n",
    "print(missing_values)"
   ]
  },
  {
   "cell_type": "markdown",
   "id": "3504f38b",
   "metadata": {},
   "source": [
    "변수의 기초 통계량 확인"
   ]
  },
  {
   "cell_type": "code",
   "execution_count": 23,
   "id": "eb897079",
   "metadata": {
    "tags": []
   },
   "outputs": [
    {
     "data": {
      "text/plain": [
       "count    5827.000000\n",
       "mean       19.376798\n",
       "std         7.501572\n",
       "min        -3.500000\n",
       "25%        14.100000\n",
       "50%        20.400000\n",
       "75%        24.900000\n",
       "max        36.300000\n",
       "Name: temperature, dtype: float64"
      ]
     },
     "execution_count": 23,
     "metadata": {},
     "output_type": "execute_result"
    }
   ],
   "source": [
    "# 아래에 실습코드를 작성하고 결과를 확인합니다.\n",
    "data['temperature'].describe()"
   ]
  },
  {
   "cell_type": "markdown",
   "id": "f2654913",
   "metadata": {},
   "source": [
    "변수의 분포 확인"
   ]
  },
  {
   "cell_type": "code",
   "execution_count": 24,
   "id": "07d0fac6",
   "metadata": {
    "tags": []
   },
   "outputs": [
    {
     "data": {
      "image/png": "[encoded data removed]",
      "text/plain": [
       "<Figure size 640x480 with 1 Axes>"
      ]
     },
     "metadata": {},
     "output_type": "display_data"
    }
   ],
   "source": [
    "sns.kdeplot(data['temperature'])\n",
    "plt.show()"
   ]
  },
  {
   "cell_type": "markdown",
   "id": "b7f63822",
   "metadata": {},
   "source": [
    "위 정보로 부터 파악한 내용 정리\n"
   ]
  },
  {
   "cell_type": "code",
   "execution_count": null,
   "id": "f95732bc-badd-4e40-b00c-6f8c91d156af",
   "metadata": {},
   "outputs": [],
   "source": [
    "# 데이터의 '온도' 열은 5827개 row로 구성되어있으며 결측치는 없음\n",
    "# 20 ~ 30도인 따듯한 온도에서 많이 사용했다는 것을 알 수 있다."
   ]
  },
  {
   "cell_type": "markdown",
   "id": "d28e0cb7",
   "metadata": {},
   "source": [
    "#### 3) Feature3 : precipitation"
   ]
  },
  {
   "cell_type": "markdown",
   "id": "2ce4d935",
   "metadata": {},
   "source": [
    "변수가 내포하고 있는 의미\n",
    "- 따릉이 대여 시점의 강우 여부 (비가 안왔으면 0, 왔으면 1)"
   ]
  },
  {
   "cell_type": "code",
   "execution_count": 25,
   "id": "3b797f2d",
   "metadata": {
    "tags": []
   },
   "outputs": [],
   "source": [
    "# 아래에 실습코드를 작성하고 결과를 확인합니다.\n",
    "# rain = data.loc[data['precipitation']==0, 'precipitation']\n",
    "# notrain = data.loc[data['precipitation']==1, 'precipitation']"
   ]
  },
  {
   "cell_type": "markdown",
   "id": "5255e1f1",
   "metadata": {},
   "source": [
    "변수가 수치형인지 범주형인지\n",
    "- 1시간 전 강우 유무는 범주형? 수치형?"
   ]
  },
  {
   "cell_type": "code",
   "execution_count": 39,
   "id": "377abde0",
   "metadata": {
    "tags": []
   },
   "outputs": [
    {
     "data": {
      "text/plain": [
       "0       0\n",
       "1       0\n",
       "2       0\n",
       "3       0\n",
       "4       0\n",
       "       ..\n",
       "5822    0\n",
       "5823    0\n",
       "5824    0\n",
       "5825    0\n",
       "5826    0\n",
       "Name: precipitation, Length: 5827, dtype: int64"
      ]
     },
     "execution_count": 39,
     "metadata": {},
     "output_type": "execute_result"
    }
   ],
   "source": [
    "# 아래에 실습코드를 작성하고 결과를 확인합니다.\n",
    "data['precipitation']"
   ]
  },
  {
   "cell_type": "code",
   "execution_count": 87,
   "id": "923a8375-952e-4e50-962b-d56a9dfd79e8",
   "metadata": {
    "tags": []
   },
   "outputs": [
    {
     "name": "stdout",
     "output_type": "stream",
     "text": [
      "<class 'pandas.core.series.Series'>\n",
      "Index: 5670 entries, 0 to 5826\n",
      "Series name: precipitation\n",
      "Non-Null Count  Dtype\n",
      "--------------  -----\n",
      "5670 non-null   int64\n",
      "dtypes: int64(1)\n",
      "memory usage: 88.6 KB\n",
      "None\n"
     ]
    }
   ],
   "source": [
    "print(data['precipitation'].info())"
   ]
  },
  {
   "cell_type": "markdown",
   "id": "30039c7e",
   "metadata": {},
   "source": [
    "변수의 결측치 존재 여부 및 조치 방안\n"
   ]
  },
  {
   "cell_type": "code",
   "execution_count": 89,
   "id": "f8650fec",
   "metadata": {
    "tags": []
   },
   "outputs": [
    {
     "name": "stdout",
     "output_type": "stream",
     "text": [
      "0\n"
     ]
    }
   ],
   "source": [
    "# 아래에 실습코드를 작성하고 결과를 확인합니다.\n",
    "missing_values = data['precipitation'].isnull().sum()\n",
    "print(missing_values)"
   ]
  },
  {
   "cell_type": "markdown",
   "id": "aa89a86f",
   "metadata": {},
   "source": [
    "변수의 기초 통계량 확인"
   ]
  },
  {
   "cell_type": "code",
   "execution_count": 90,
   "id": "80518c33",
   "metadata": {
    "tags": []
   },
   "outputs": [
    {
     "data": {
      "text/plain": [
       "count    5670.000000\n",
       "mean        0.075309\n",
       "std         0.263912\n",
       "min         0.000000\n",
       "25%         0.000000\n",
       "50%         0.000000\n",
       "75%         0.000000\n",
       "max         1.000000\n",
       "Name: precipitation, dtype: float64"
      ]
     },
     "execution_count": 90,
     "metadata": {},
     "output_type": "execute_result"
    }
   ],
   "source": [
    "# 아래에 실습코드를 작성하고 결과를 확인합니다.\n",
    "data['precipitation'].describe()"
   ]
  },
  {
   "cell_type": "markdown",
   "id": "ca1d3e86",
   "metadata": {},
   "source": [
    "변수의 분포 확인"
   ]
  },
  {
   "cell_type": "code",
   "execution_count": 91,
   "id": "9694bb33",
   "metadata": {
    "tags": []
   },
   "outputs": [
    {
     "data": {
      "image/png": "[encoded data removed]",
      "text/plain": [
       "<Figure size 640x480 with 1 Axes>"
      ]
     },
     "metadata": {},
     "output_type": "display_data"
    }
   ],
   "source": [
    "# 아래에 실습코드를 작성하고 결과를 확인합니다.\n",
    "# 시각화\n",
    "sns.kdeplot(data['precipitation'])\n",
    "plt.show()"
   ]
  },
  {
   "cell_type": "markdown",
   "id": "ea7ffee6",
   "metadata": {},
   "source": [
    "위 정보로 부터 파악한 내용 정리\n"
   ]
  },
  {
   "cell_type": "markdown",
   "id": "c559e931",
   "metadata": {},
   "source": [
    "#### 4) Feature4 : windspeed"
   ]
  },
  {
   "cell_type": "markdown",
   "id": "414fcce3",
   "metadata": {},
   "source": [
    "변수가 내포하고 있는 의미\n",
    "- 따릉이 대여 시점의 풍속, 풍량"
   ]
  },
  {
   "cell_type": "code",
   "execution_count": 45,
   "id": "24491c56",
   "metadata": {
    "tags": []
   },
   "outputs": [
    {
     "data": {
      "text/plain": [
       "windspeed\n",
       "2.3    255\n",
       "2.2    246\n",
       "2.1    242\n",
       "1.9    239\n",
       "1.7    235\n",
       "      ... \n",
       "6.9      1\n",
       "5.8      1\n",
       "6.8      1\n",
       "6.4      1\n",
       "6.2      1\n",
       "Name: count, Length: 72, dtype: int64"
      ]
     },
     "execution_count": 45,
     "metadata": {},
     "output_type": "execute_result"
    }
   ],
   "source": [
    "# 아래에 실습코드를 작성하고 결과를 확인합니다.\n",
    "data['windspeed'].value_counts()\n"
   ]
  },
  {
   "cell_type": "markdown",
   "id": "89a59834",
   "metadata": {},
   "source": [
    "변수가 수치형인지 범주형인지\n"
   ]
  },
  {
   "cell_type": "code",
   "execution_count": 46,
   "id": "01bc4b8f",
   "metadata": {
    "tags": []
   },
   "outputs": [
    {
     "name": "stdout",
     "output_type": "stream",
     "text": [
      "<class 'pandas.core.series.Series'>\n",
      "RangeIndex: 5827 entries, 0 to 5826\n",
      "Series name: hour\n",
      "Non-Null Count  Dtype\n",
      "--------------  -----\n",
      "5827 non-null   int64\n",
      "dtypes: int64(1)\n",
      "memory usage: 45.7 KB\n",
      "None\n"
     ]
    }
   ],
   "source": [
    "# 아래에 실습코드를 작성하고 결과를 확인합니다.\n",
    "print(data['hour'].info())\n"
   ]
  },
  {
   "cell_type": "markdown",
   "id": "062f03ae",
   "metadata": {},
   "source": [
    "변수의 결측치 존재 여부 및 조치방안"
   ]
  },
  {
   "cell_type": "code",
   "execution_count": 47,
   "id": "388e5f1c",
   "metadata": {
    "tags": []
   },
   "outputs": [
    {
     "name": "stdout",
     "output_type": "stream",
     "text": [
      "0\n"
     ]
    }
   ],
   "source": [
    "# 아래에 실습코드를 작성하고 결과를 확인합니다.\n",
    "missing_values = data['hour'].isnull().sum()\n",
    "print(missing_values)\n"
   ]
  },
  {
   "cell_type": "markdown",
   "id": "c5684936",
   "metadata": {},
   "source": [
    "변수의 기초 통계량 확인"
   ]
  },
  {
   "cell_type": "code",
   "execution_count": 48,
   "id": "37b3d9d1",
   "metadata": {
    "tags": []
   },
   "outputs": [
    {
     "data": {
      "text/plain": [
       "count    5827.000000\n",
       "mean       11.506607\n",
       "std         6.921963\n",
       "min         0.000000\n",
       "25%         6.000000\n",
       "50%        12.000000\n",
       "75%        18.000000\n",
       "max        23.000000\n",
       "Name: hour, dtype: float64"
      ]
     },
     "execution_count": 48,
     "metadata": {},
     "output_type": "execute_result"
    }
   ],
   "source": [
    "# 아래에 실습코드를 작성하고 결과를 확인합니다.\n",
    "data['hour'].describe()\n"
   ]
  },
  {
   "cell_type": "markdown",
   "id": "72b17bbc",
   "metadata": {},
   "source": [
    "변수의 분포 확인"
   ]
  },
  {
   "cell_type": "code",
   "execution_count": 49,
   "id": "6a3caeb7",
   "metadata": {
    "tags": []
   },
   "outputs": [
    {
     "data": {
      "image/png": "[encoded data removed]",
      "text/plain": [
       "<Figure size 640x480 with 1 Axes>"
      ]
     },
     "metadata": {},
     "output_type": "display_data"
    }
   ],
   "source": [
    "# 아래에 실습코드를 작성하고 결과를 확인합니다.\n",
    "sns.kdeplot(data['windspeed'])\n",
    "plt.show()"
   ]
  },
  {
   "cell_type": "markdown",
   "id": "c4efd45c",
   "metadata": {},
   "source": [
    "위 정보로 부터 파악한 내용 정리\n"
   ]
  },
  {
   "cell_type": "code",
   "execution_count": null,
   "id": "40e2774f-8f26-474a-92eb-6e8732a3450c",
   "metadata": {},
   "outputs": [],
   "source": [
    "# 바람이 2일때가 가장 많이 빌렸음."
   ]
  },
  {
   "cell_type": "markdown",
   "id": "8edb88d1",
   "metadata": {},
   "source": [
    "#### 5) Feature5 : humidity"
   ]
  },
  {
   "cell_type": "markdown",
   "id": "fa8084c9",
   "metadata": {},
   "source": [
    "변수가 내포하고 있는 의미\n",
    "- 따릉이 대여 시점의 습도"
   ]
  },
  {
   "cell_type": "code",
   "execution_count": 50,
   "id": "dbfcefb8",
   "metadata": {
    "tags": []
   },
   "outputs": [
    {
     "data": {
      "text/plain": [
       "0       49\n",
       "1       53\n",
       "2       43\n",
       "3       44\n",
       "4       44\n",
       "        ..\n",
       "5822    66\n",
       "5823    70\n",
       "5824    70\n",
       "5825    71\n",
       "5826    71\n",
       "Name: humidity, Length: 5827, dtype: int64"
      ]
     },
     "execution_count": 50,
     "metadata": {},
     "output_type": "execute_result"
    }
   ],
   "source": [
    "# 아래에 실습코드를 작성하고 결과를 확인합니다.\n",
    "data['humidity']"
   ]
  },
  {
   "cell_type": "markdown",
   "id": "986ddfbc",
   "metadata": {},
   "source": [
    "변수가 수치형인지 범주형인지\n"
   ]
  },
  {
   "cell_type": "code",
   "execution_count": 51,
   "id": "82eb2ee7",
   "metadata": {
    "tags": []
   },
   "outputs": [
    {
     "name": "stdout",
     "output_type": "stream",
     "text": [
      "<class 'pandas.core.series.Series'>\n",
      "RangeIndex: 5827 entries, 0 to 5826\n",
      "Series name: humidity\n",
      "Non-Null Count  Dtype\n",
      "--------------  -----\n",
      "5827 non-null   int64\n",
      "dtypes: int64(1)\n",
      "memory usage: 45.7 KB\n",
      "None\n"
     ]
    }
   ],
   "source": [
    "# 아래에 실습코드를 작성하고 결과를 확인합니다.\n",
    "print(data['humidity'].info())"
   ]
  },
  {
   "cell_type": "markdown",
   "id": "ec1ad5c8",
   "metadata": {},
   "source": [
    "변수의 결측치 존재 여부 및 조치방안"
   ]
  },
  {
   "cell_type": "code",
   "execution_count": 52,
   "id": "f06b7d65",
   "metadata": {
    "tags": []
   },
   "outputs": [
    {
     "name": "stdout",
     "output_type": "stream",
     "text": [
      "0\n"
     ]
    }
   ],
   "source": [
    "# 아래에 실습코드를 작성하고 결과를 확인합니다.\n",
    "missing_values = data['humidity'].isnull().sum()\n",
    "print(missing_values)"
   ]
  },
  {
   "cell_type": "markdown",
   "id": "16378eb0",
   "metadata": {},
   "source": [
    "변수의 기초 통계량 확인"
   ]
  },
  {
   "cell_type": "code",
   "execution_count": 53,
   "id": "e6cc39de",
   "metadata": {
    "tags": []
   },
   "outputs": [
    {
     "data": {
      "text/plain": [
       "count    5827.000000\n",
       "mean       68.608718\n",
       "std        17.277266\n",
       "min        19.000000\n",
       "25%        56.000000\n",
       "50%        70.000000\n",
       "75%        82.000000\n",
       "max       100.000000\n",
       "Name: humidity, dtype: float64"
      ]
     },
     "execution_count": 53,
     "metadata": {},
     "output_type": "execute_result"
    }
   ],
   "source": [
    "# 아래에 실습코드를 작성하고 결과를 확인합니다.\n",
    "data['humidity'].describe()"
   ]
  },
  {
   "cell_type": "markdown",
   "id": "1b897f06",
   "metadata": {},
   "source": [
    "변수의 분포 확인"
   ]
  },
  {
   "cell_type": "code",
   "execution_count": 54,
   "id": "fb63a660",
   "metadata": {
    "tags": []
   },
   "outputs": [
    {
     "data": {
      "image/png": "[encoded data removed]",
      "text/plain": [
       "<Figure size 640x480 with 1 Axes>"
      ]
     },
     "metadata": {},
     "output_type": "display_data"
    }
   ],
   "source": [
    "# 아래에 실습코드를 작성하고 결과를 확인합니다.\n",
    "sns.kdeplot(data['humidity'])\n",
    "plt.show()"
   ]
  },
  {
   "cell_type": "markdown",
   "id": "7b879858",
   "metadata": {},
   "source": [
    "위 정보로 부터 파악한 내용 정리\n"
   ]
  },
  {
   "cell_type": "code",
   "execution_count": null,
   "id": "9b0e1c59-e7a0-4ab7-a086-07108948f80c",
   "metadata": {},
   "outputs": [],
   "source": [
    "# 습도가 60 ~ 80 이때 높은 것으로 확인됨. 의외의 결과\n",
    "# 고려해볼 점은 따릉이가 한강에서 타기 위해 많이 빌리는 경우를 경험하였기 때문에 그 영향이 있다고 생각함"
   ]
  },
  {
   "cell_type": "markdown",
   "id": "e72d8e51",
   "metadata": {},
   "source": [
    "#### 6) Feature6 : visibility"
   ]
  },
  {
   "cell_type": "markdown",
   "id": "e464c2db",
   "metadata": {},
   "source": [
    "변수가 내포하고 있는 의미\n",
    "- 대여 시점의 시계 (시정 거리)"
   ]
  },
  {
   "cell_type": "code",
   "execution_count": 55,
   "id": "5544de0c",
   "metadata": {
    "tags": []
   },
   "outputs": [
    {
     "data": {
      "text/plain": [
       "0       2000\n",
       "1       2000\n",
       "2       2000\n",
       "3       2000\n",
       "4       2000\n",
       "        ... \n",
       "5822    1193\n",
       "5823    1233\n",
       "5824    1250\n",
       "5825    1262\n",
       "5826    1483\n",
       "Name: visibility, Length: 5827, dtype: int64"
      ]
     },
     "execution_count": 55,
     "metadata": {},
     "output_type": "execute_result"
    }
   ],
   "source": [
    "# 아래에 실습코드를 작성하고 결과를 확인합니다.\n",
    "data['visibility']"
   ]
  },
  {
   "cell_type": "markdown",
   "id": "948f06f4",
   "metadata": {},
   "source": [
    "변수가 수치형인지 범주형인지"
   ]
  },
  {
   "cell_type": "code",
   "execution_count": 56,
   "id": "4eb2b232",
   "metadata": {
    "tags": []
   },
   "outputs": [
    {
     "name": "stdout",
     "output_type": "stream",
     "text": [
      "<class 'pandas.core.series.Series'>\n",
      "RangeIndex: 5827 entries, 0 to 5826\n",
      "Series name: visibility\n",
      "Non-Null Count  Dtype\n",
      "--------------  -----\n",
      "5827 non-null   int64\n",
      "dtypes: int64(1)\n",
      "memory usage: 45.7 KB\n",
      "None\n"
     ]
    }
   ],
   "source": [
    "# 아래에 실습코드를 작성하고 결과를 확인합니다.\n",
    "print(data['visibility'].info())"
   ]
  },
  {
   "cell_type": "markdown",
   "id": "5ec53fe7",
   "metadata": {},
   "source": [
    "변수의 결측치 존재 여부 및 조치방안"
   ]
  },
  {
   "cell_type": "code",
   "execution_count": 57,
   "id": "18a10383",
   "metadata": {
    "tags": []
   },
   "outputs": [
    {
     "name": "stdout",
     "output_type": "stream",
     "text": [
      "0\n"
     ]
    }
   ],
   "source": [
    "# 아래에 실습코드를 작성하고 결과를 확인합니다.\n",
    "missing_values = data['visibility'].isnull().sum()\n",
    "print(missing_values)"
   ]
  },
  {
   "cell_type": "markdown",
   "id": "d849438f",
   "metadata": {},
   "source": [
    "변수의 기초 통계량 확인"
   ]
  },
  {
   "cell_type": "code",
   "execution_count": 58,
   "id": "90ebb8ce",
   "metadata": {
    "tags": []
   },
   "outputs": [
    {
     "data": {
      "text/plain": [
       "count    5827.000000\n",
       "mean     1758.438648\n",
       "std       490.969394\n",
       "min        60.000000\n",
       "25%      1935.500000\n",
       "50%      2000.000000\n",
       "75%      2000.000000\n",
       "max      2000.000000\n",
       "Name: visibility, dtype: float64"
      ]
     },
     "execution_count": 58,
     "metadata": {},
     "output_type": "execute_result"
    }
   ],
   "source": [
    "# 아래에 실습코드를 작성하고 결과를 확인합니다.\n",
    "data['visibility'].describe()"
   ]
  },
  {
   "cell_type": "markdown",
   "id": "bdd51d58",
   "metadata": {},
   "source": [
    "변수의 분포 확인"
   ]
  },
  {
   "cell_type": "code",
   "execution_count": 59,
   "id": "60e0ffdd",
   "metadata": {
    "tags": []
   },
   "outputs": [
    {
     "data": {
      "image/png": "[encoded data removed]",
      "text/plain": [
       "<Figure size 640x480 with 1 Axes>"
      ]
     },
     "metadata": {},
     "output_type": "display_data"
    }
   ],
   "source": [
    "# 아래에 실습코드를 작성하고 결과를 확인합니다.\n",
    "sns.kdeplot(data['visibility'])\n",
    "plt.show()"
   ]
  },
  {
   "cell_type": "markdown",
   "id": "10396199",
   "metadata": {},
   "source": [
    "위 정보로 부터 파악한 내용 정리\n"
   ]
  },
  {
   "cell_type": "code",
   "execution_count": null,
   "id": "d1508893-1f4e-492f-a2f9-0d1f5fe7ac11",
   "metadata": {},
   "outputs": [],
   "source": [
    "# 시정거리가 높을 때 대여 수도 많은 것을 확인했다. 날씨가 맑을 수록 대여 수가 높다는 것을 알 수 있다."
   ]
  },
  {
   "cell_type": "markdown",
   "id": "5d94d657",
   "metadata": {},
   "source": [
    "#### 7) Feature7 : ozone"
   ]
  },
  {
   "cell_type": "markdown",
   "id": "8465eb22",
   "metadata": {},
   "source": [
    "변수가 내포하고 있는 의미\n",
    "- 따릉이 대여 시점의 오존 수치"
   ]
  },
  {
   "cell_type": "code",
   "execution_count": 60,
   "id": "f9e0106f",
   "metadata": {
    "tags": []
   },
   "outputs": [
    {
     "data": {
      "text/plain": [
       "0       0.002\n",
       "1       0.003\n",
       "2       0.023\n",
       "3       0.028\n",
       "4       0.008\n",
       "        ...  \n",
       "5822    0.002\n",
       "5823    0.002\n",
       "5824    0.002\n",
       "5825    0.001\n",
       "5826    0.004\n",
       "Name: ozone, Length: 5827, dtype: float64"
      ]
     },
     "execution_count": 60,
     "metadata": {},
     "output_type": "execute_result"
    }
   ],
   "source": [
    "# 아래에 실습코드를 작성하고 결과를 확인합니다.\n",
    "data['ozone']"
   ]
  },
  {
   "cell_type": "markdown",
   "id": "cd9fa5c8",
   "metadata": {},
   "source": [
    "변수가 수치형인지 범주형인지\n"
   ]
  },
  {
   "cell_type": "code",
   "execution_count": 61,
   "id": "c7b2b01c",
   "metadata": {
    "tags": []
   },
   "outputs": [
    {
     "name": "stdout",
     "output_type": "stream",
     "text": [
      "<class 'pandas.core.series.Series'>\n",
      "RangeIndex: 5827 entries, 0 to 5826\n",
      "Series name: ozone\n",
      "Non-Null Count  Dtype  \n",
      "--------------  -----  \n",
      "5699 non-null   float64\n",
      "dtypes: float64(1)\n",
      "memory usage: 45.7 KB\n",
      "None\n"
     ]
    }
   ],
   "source": [
    "# 아래에 실습코드를 작성하고 결과를 확인합니다.\n",
    "print(data['ozone'].info())"
   ]
  },
  {
   "cell_type": "markdown",
   "id": "6ed23d4a",
   "metadata": {},
   "source": [
    "변수의 결측치 존재 여부 및 조치방안"
   ]
  },
  {
   "cell_type": "code",
   "execution_count": 62,
   "id": "8144923d",
   "metadata": {
    "tags": []
   },
   "outputs": [
    {
     "name": "stdout",
     "output_type": "stream",
     "text": [
      "128\n"
     ]
    }
   ],
   "source": [
    "# 아래에 실습코드를 작성하고 결과를 확인합니다.\n",
    "missing_values = data['ozone'].isnull().sum()\n",
    "print(missing_values)"
   ]
  },
  {
   "cell_type": "markdown",
   "id": "8b97cd3f",
   "metadata": {},
   "source": [
    "만약 결측치가 존재한다면?-> 어떻게 처리할 것인가?"
   ]
  },
  {
   "cell_type": "code",
   "execution_count": 63,
   "id": "8e567c88",
   "metadata": {
    "tags": []
   },
   "outputs": [],
   "source": [
    "# 아래에 실습코드를 작성하고 결과를 확인합니다.\n",
    "data = data.loc[data['ozone'].notnull()]"
   ]
  },
  {
   "cell_type": "markdown",
   "id": "8ffd054c",
   "metadata": {},
   "source": [
    "변수의 기초 통계량 확인"
   ]
  },
  {
   "cell_type": "code",
   "execution_count": 64,
   "id": "d1b8eb9e",
   "metadata": {
    "tags": []
   },
   "outputs": [
    {
     "data": {
      "text/plain": [
       "count    5699.000000\n",
       "mean        0.031811\n",
       "std         0.018277\n",
       "min         0.001000\n",
       "25%         0.019000\n",
       "50%         0.031000\n",
       "75%         0.041000\n",
       "max         0.137000\n",
       "Name: ozone, dtype: float64"
      ]
     },
     "execution_count": 64,
     "metadata": {},
     "output_type": "execute_result"
    }
   ],
   "source": [
    "# 아래에 실습코드를 작성하고 결과를 확인합니다.\n",
    "data['ozone'].describe()"
   ]
  },
  {
   "cell_type": "markdown",
   "id": "d991665e",
   "metadata": {},
   "source": [
    "변수의 분포 확인"
   ]
  },
  {
   "cell_type": "code",
   "execution_count": 65,
   "id": "84949ecf",
   "metadata": {
    "tags": []
   },
   "outputs": [
    {
     "data": {
      "image/png": "[encoded data removed]",
      "text/plain": [
       "<Figure size 640x480 with 1 Axes>"
      ]
     },
     "metadata": {},
     "output_type": "display_data"
    }
   ],
   "source": [
    "# 아래에 실습코드를 작성하고 결과를 확인합니다.\n",
    "sns.kdeplot(data['ozone'])\n",
    "plt.show()"
   ]
  },
  {
   "cell_type": "markdown",
   "id": "e0b91875",
   "metadata": {},
   "source": [
    "위 정보로 부터 파악한 내용 정리\n"
   ]
  },
  {
   "cell_type": "code",
   "execution_count": null,
   "id": "8b57ec99-cf61-4801-9024-e8b3f08b03c2",
   "metadata": {},
   "outputs": [],
   "source": [
    "# 오존이 낮을 수록 대여 수가 높다는 것을 알 수 있었다."
   ]
  },
  {
   "cell_type": "markdown",
   "id": "f38079b4",
   "metadata": {},
   "source": [
    "#### 8) Feature8 : PM10"
   ]
  },
  {
   "cell_type": "markdown",
   "id": "1f1aef91",
   "metadata": {},
   "source": [
    "변수가 내포하고 있는 의미\n",
    "- 따릉이 대여 시점의 미세먼지 농도"
   ]
  },
  {
   "cell_type": "code",
   "execution_count": 66,
   "id": "25bc99bc",
   "metadata": {
    "tags": []
   },
   "outputs": [
    {
     "data": {
      "text/plain": [
       "0       42.0\n",
       "1       41.0\n",
       "2       30.0\n",
       "3       27.0\n",
       "4       29.0\n",
       "        ... \n",
       "5822    74.0\n",
       "5823    65.0\n",
       "5824    51.0\n",
       "5825    43.0\n",
       "5826    39.0\n",
       "Name: PM10, Length: 5699, dtype: float64"
      ]
     },
     "execution_count": 66,
     "metadata": {},
     "output_type": "execute_result"
    }
   ],
   "source": [
    "# 아래에 실습코드를 작성하고 결과를 확인합니다.\n",
    "data['PM10']"
   ]
  },
  {
   "cell_type": "markdown",
   "id": "0c880214",
   "metadata": {},
   "source": [
    "변수가 수치형인지 범주형인지\n"
   ]
  },
  {
   "cell_type": "code",
   "execution_count": 67,
   "id": "22a492de",
   "metadata": {
    "tags": []
   },
   "outputs": [
    {
     "name": "stdout",
     "output_type": "stream",
     "text": [
      "<class 'pandas.core.series.Series'>\n",
      "Index: 5699 entries, 0 to 5826\n",
      "Series name: PM10\n",
      "Non-Null Count  Dtype  \n",
      "--------------  -----  \n",
      "5677 non-null   float64\n",
      "dtypes: float64(1)\n",
      "memory usage: 89.0 KB\n",
      "None\n"
     ]
    }
   ],
   "source": [
    "# 아래에 실습코드를 작성하고 결과를 확인합니다.\n",
    "print(data['PM10'].info())"
   ]
  },
  {
   "cell_type": "markdown",
   "id": "21b803c6",
   "metadata": {},
   "source": [
    "변수의 결측치 존재 여부 및 조치방안"
   ]
  },
  {
   "cell_type": "code",
   "execution_count": 69,
   "id": "6b8e4d27",
   "metadata": {
    "tags": []
   },
   "outputs": [
    {
     "name": "stdout",
     "output_type": "stream",
     "text": [
      "22\n"
     ]
    }
   ],
   "source": [
    "# 아래에 실습코드를 작성하고 결과를 확인합니다.\n",
    "missing_values = data['PM10'].isnull().sum()\n",
    "print(missing_values)"
   ]
  },
  {
   "cell_type": "code",
   "execution_count": 70,
   "id": "edae918d-9943-4ad2-a6e7-dfbf46228643",
   "metadata": {
    "tags": []
   },
   "outputs": [],
   "source": [
    "data = data.loc[data['PM10'].notnull()]"
   ]
  },
  {
   "cell_type": "markdown",
   "id": "75b57fa9",
   "metadata": {},
   "source": [
    "변수의 기초 통계량 확인"
   ]
  },
  {
   "cell_type": "code",
   "execution_count": 71,
   "id": "a0c54a15",
   "metadata": {
    "tags": []
   },
   "outputs": [
    {
     "data": {
      "text/plain": [
       "count    5677.000000\n",
       "mean       31.588339\n",
       "std        42.786622\n",
       "min         3.000000\n",
       "25%        16.000000\n",
       "50%        25.000000\n",
       "75%        37.000000\n",
       "max       827.000000\n",
       "Name: PM10, dtype: float64"
      ]
     },
     "execution_count": 71,
     "metadata": {},
     "output_type": "execute_result"
    }
   ],
   "source": [
    "# 아래에 실습코드를 작성하고 결과를 확인합니다.\n",
    "data['PM10'].describe()\n"
   ]
  },
  {
   "cell_type": "markdown",
   "id": "06360b41",
   "metadata": {},
   "source": [
    "변수의 분포 확인"
   ]
  },
  {
   "cell_type": "code",
   "execution_count": 72,
   "id": "8e7de0ec",
   "metadata": {
    "tags": []
   },
   "outputs": [
    {
     "data": {
      "image/png": "[encoded data removed]",
      "text/plain": [
       "<Figure size 640x480 with 1 Axes>"
      ]
     },
     "metadata": {},
     "output_type": "display_data"
    }
   ],
   "source": [
    "# 아래에 실습코드를 작성하고 결과를 확인합니다.\n",
    "sns.kdeplot(data['PM10'])\n",
    "plt.show()"
   ]
  },
  {
   "cell_type": "markdown",
   "id": "69f7ea0b",
   "metadata": {},
   "source": [
    "위 정보로 부터 파악한 내용 정리\n"
   ]
  },
  {
   "cell_type": "code",
   "execution_count": null,
   "id": "aaade78f-a0d4-4d39-b833-caa74aa15b52",
   "metadata": {},
   "outputs": [],
   "source": [
    "# PM10이 낮을 수록 따릉이 대여수가 높다.\n",
    "# 미세먼지 농도가 낮을 수록 따릉이 대여수가 높다."
   ]
  },
  {
   "cell_type": "markdown",
   "id": "ccc92138",
   "metadata": {},
   "source": [
    "#### 9) Feature9 : PM2.5"
   ]
  },
  {
   "cell_type": "markdown",
   "id": "f69b136c",
   "metadata": {},
   "source": [
    "변수가 내포하고 있는 의미\n",
    "- 따릉이 대여시점의 초미세먼지 수치"
   ]
  },
  {
   "cell_type": "code",
   "execution_count": 73,
   "id": "4c94a1fe",
   "metadata": {
    "tags": []
   },
   "outputs": [
    {
     "data": {
      "text/plain": [
       "0       21.0\n",
       "1       21.0\n",
       "2       13.0\n",
       "3       12.0\n",
       "4       14.0\n",
       "        ... \n",
       "5822    58.0\n",
       "5823    56.0\n",
       "5824    41.0\n",
       "5825    35.0\n",
       "5826    31.0\n",
       "Name: PM2.5, Length: 5677, dtype: float64"
      ]
     },
     "execution_count": 73,
     "metadata": {},
     "output_type": "execute_result"
    }
   ],
   "source": [
    "# 아래에 실습코드를 작성하고 결과를 확인합니다.\n",
    "data['PM2.5']"
   ]
  },
  {
   "cell_type": "markdown",
   "id": "21de1479",
   "metadata": {},
   "source": [
    "변수가 수치형인지 범주형인지\n"
   ]
  },
  {
   "cell_type": "code",
   "execution_count": 74,
   "id": "0cdba1a7",
   "metadata": {
    "tags": []
   },
   "outputs": [
    {
     "name": "stdout",
     "output_type": "stream",
     "text": [
      "<class 'pandas.core.series.Series'>\n",
      "Index: 5677 entries, 0 to 5826\n",
      "Series name: PM2.5\n",
      "Non-Null Count  Dtype  \n",
      "--------------  -----  \n",
      "5670 non-null   float64\n",
      "dtypes: float64(1)\n",
      "memory usage: 88.7 KB\n"
     ]
    }
   ],
   "source": [
    "# 아래에 실습코드를 작성하고 결과를 확인합니다.\n",
    "data['PM2.5'].info()"
   ]
  },
  {
   "cell_type": "markdown",
   "id": "8f4df0a6",
   "metadata": {},
   "source": [
    "변수의 결측치 존재 여부 및 조치방안"
   ]
  },
  {
   "cell_type": "code",
   "execution_count": 76,
   "id": "7a8e0c29",
   "metadata": {
    "tags": []
   },
   "outputs": [
    {
     "name": "stdout",
     "output_type": "stream",
     "text": [
      "7\n"
     ]
    }
   ],
   "source": [
    "# 아래에 실습코드를 작성하고 결과를 확인합니다.\n",
    "missing_value = data['PM2.5'].isnull().sum()\n",
    "print(missing_value)"
   ]
  },
  {
   "cell_type": "code",
   "execution_count": 77,
   "id": "061b6890-f2d0-4b40-8d36-deed97876573",
   "metadata": {
    "tags": []
   },
   "outputs": [],
   "source": [
    "data = data.loc[data['PM2.5'].notnull()]"
   ]
  },
  {
   "cell_type": "markdown",
   "id": "699751b0",
   "metadata": {},
   "source": [
    "변수의 기초 통계량 확인"
   ]
  },
  {
   "cell_type": "code",
   "execution_count": 78,
   "id": "664bbc11",
   "metadata": {
    "tags": []
   },
   "outputs": [
    {
     "data": {
      "text/plain": [
       "count    5670.000000\n",
       "mean       15.332451\n",
       "std        12.860270\n",
       "min         1.000000\n",
       "25%         7.000000\n",
       "50%        13.000000\n",
       "75%        20.000000\n",
       "max       125.000000\n",
       "Name: PM2.5, dtype: float64"
      ]
     },
     "execution_count": 78,
     "metadata": {},
     "output_type": "execute_result"
    }
   ],
   "source": [
    "# 아래에 실습코드를 작성하고 결과를 확인합니다.\n",
    "data['PM2.5'].describe()"
   ]
  },
  {
   "cell_type": "markdown",
   "id": "96e5034d",
   "metadata": {},
   "source": [
    "변수의 분포 확인"
   ]
  },
  {
   "cell_type": "code",
   "execution_count": 80,
   "id": "dc8e22b4",
   "metadata": {
    "tags": []
   },
   "outputs": [
    {
     "data": {
      "image/png": "[encoded data removed]",
      "text/plain": [
       "<Figure size 640x480 with 1 Axes>"
      ]
     },
     "metadata": {},
     "output_type": "display_data"
    }
   ],
   "source": [
    "# 아래에 실습코드를 작성하고 결과를 확인합니다.\n",
    "sns.kdeplot(data['PM2.5']) \n",
    "plt.show()"
   ]
  },
  {
   "cell_type": "markdown",
   "id": "c94f15b8",
   "metadata": {},
   "source": [
    "위 정보로 부터 파악한 내용 정리\n"
   ]
  },
  {
   "cell_type": "code",
   "execution_count": null,
   "id": "4ebfd517-1a5f-4da7-a0c7-ad31afe8e58d",
   "metadata": {},
   "outputs": [],
   "source": [
    "# 초 미세먼지 농도가 낮을 수록 따릉이 대여 수가 높다"
   ]
  },
  {
   "cell_type": "markdown",
   "id": "13cf9192",
   "metadata": {},
   "source": [
    "#### 10) Count (Target)"
   ]
  },
  {
   "cell_type": "code",
   "execution_count": 81,
   "id": "2a027d4c",
   "metadata": {
    "tags": []
   },
   "outputs": [
    {
     "data": {
      "text/plain": [
       "0        46\n",
       "1        40\n",
       "2        31\n",
       "3        12\n",
       "4        30\n",
       "       ... \n",
       "5822    273\n",
       "5823    228\n",
       "5824    215\n",
       "5825    125\n",
       "5826     95\n",
       "Name: count, Length: 5670, dtype: int64"
      ]
     },
     "execution_count": 81,
     "metadata": {},
     "output_type": "execute_result"
    }
   ],
   "source": [
    "# 아래에 실습코드를 작성하고 결과를 확인합니다.\n",
    "data['count']"
   ]
  },
  {
   "cell_type": "markdown",
   "id": "7007298b",
   "metadata": {},
   "source": [
    "변수가 내포하고 있는 의미\n",
    "- 따릉이의 대여량 -> 우리가 예측해야 할 변수!"
   ]
  },
  {
   "cell_type": "code",
   "execution_count": 82,
   "id": "da1b23c4",
   "metadata": {
    "tags": []
   },
   "outputs": [
    {
     "name": "stdout",
     "output_type": "stream",
     "text": [
      "<class 'pandas.core.series.Series'>\n",
      "Index: 5670 entries, 0 to 5826\n",
      "Series name: count\n",
      "Non-Null Count  Dtype\n",
      "--------------  -----\n",
      "5670 non-null   int64\n",
      "dtypes: int64(1)\n",
      "memory usage: 88.6 KB\n",
      "None\n"
     ]
    }
   ],
   "source": [
    "# 아래에 실습코드를 작성하고 결과를 확인합니다.\n",
    "print(data['count'].info())"
   ]
  },
  {
   "cell_type": "markdown",
   "id": "56219b68",
   "metadata": {},
   "source": [
    "변수가 수치형인지 범주형인지\n"
   ]
  },
  {
   "cell_type": "markdown",
   "id": "9f1bf19c",
   "metadata": {},
   "source": [
    "변수의 결측치 존재 여부 및 조치 방안"
   ]
  },
  {
   "cell_type": "code",
   "execution_count": 83,
   "id": "502c4c8d",
   "metadata": {
    "tags": []
   },
   "outputs": [
    {
     "name": "stdout",
     "output_type": "stream",
     "text": [
      "0\n"
     ]
    }
   ],
   "source": [
    "# 아래에 실습코드를 작성하고 결과를 확인합니다.\n",
    "missing_values = data['count'].isnull().sum()\n",
    "print(missing_values)"
   ]
  },
  {
   "cell_type": "markdown",
   "id": "fd336e86",
   "metadata": {},
   "source": [
    "변수의 기초 통계량 확인"
   ]
  },
  {
   "cell_type": "code",
   "execution_count": 84,
   "id": "2a1ba541",
   "metadata": {
    "tags": []
   },
   "outputs": [
    {
     "data": {
      "text/plain": [
       "count    5670.000000\n",
       "mean      215.869841\n",
       "std       186.974342\n",
       "min         1.000000\n",
       "25%        53.000000\n",
       "50%       186.000000\n",
       "75%       317.000000\n",
       "max      1746.000000\n",
       "Name: count, dtype: float64"
      ]
     },
     "execution_count": 84,
     "metadata": {},
     "output_type": "execute_result"
    }
   ],
   "source": [
    "# 아래에 실습코드를 작성하고 결과를 확인합니다.\n",
    "data['count'].describe()"
   ]
  },
  {
   "cell_type": "markdown",
   "id": "3b3e68a5",
   "metadata": {},
   "source": [
    "변수의 분포 확인"
   ]
  },
  {
   "cell_type": "code",
   "execution_count": 85,
   "id": "395e2996",
   "metadata": {
    "tags": []
   },
   "outputs": [
    {
     "data": {
      "image/png": "[encoded data removed]",
      "text/plain": [
       "<Figure size 640x480 with 1 Axes>"
      ]
     },
     "metadata": {},
     "output_type": "display_data"
    }
   ],
   "source": [
    "# 아래에 실습코드를 작성하고 결과를 확인합니다.\n",
    "sns.kdeplot(data['count'])\n",
    "plt.show()"
   ]
  },
  {
   "cell_type": "markdown",
   "id": "531dc5e3",
   "metadata": {},
   "source": [
    "위 정보로 부터 파악한 내용 정리\n"
   ]
  },
  {
   "cell_type": "code",
   "execution_count": 86,
   "id": "70c8f0a9-7ff0-4cea-b02f-5b7675f318ba",
   "metadata": {
    "tags": []
   },
   "outputs": [],
   "source": [
    "# 해당 정보는 단순히 따릉이 대여수의 분포도를 확인한 것. 다른 변수들과의 연관을 해야함."
   ]
  },
  {
   "cell_type": "code",
   "execution_count": null,
   "id": "f8f89980-2a2e-4607-bc79-2e2ce5631035",
   "metadata": {},
   "outputs": [],
   "source": []
  }
 ],
 "metadata": {
  "colab": {
   "name": "1. 데이터 불러오기 및 분석(EDA).ipynb",
   "provenance": []
  },
  "kernelspec": {
   "display_name": "Python 3 (ipykernel)",
   "language": "python",
   "name": "python3"
  },
  "language_info": {
   "codemirror_mode": {
    "name": "ipython",
    "version": 3
   },
   "file_extension": ".py",
   "mimetype": "text/x-python",
   "name": "python",
   "nbconvert_exporter": "python",
   "pygments_lexer": "ipython3",
   "version": "3.11.5"
  },
  "vscode": {
   "interpreter": {
    "hash": "cf92aa13fedf815d5c8dd192b8d835913fde3e8bc926b2a0ad6cc74ef2ba3ca2"
   }
  }
 },
 "nbformat": 4,
 "nbformat_minor": 5
}
